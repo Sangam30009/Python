{
 "cells": [
  {
   "cell_type": "code",
   "execution_count": 1,
   "metadata": {},
   "outputs": [
    {
     "name": "stdout",
     "output_type": "stream",
     "text": [
      "main() is called\n",
      "connection1 is established\n",
      "fun() is called\n",
      "enter the numerator5\n",
      "enter the denominator5\n",
      "1.0\n",
      "connection2 is terminated\n",
      "connection1 is terminated\n"
     ]
    }
   ],
   "source": [
    "def fun():\n",
    "    print(\"fun() is called\")\n",
    "    try:\n",
    "        a=int(input(\"enter the numerator\"))\n",
    "        b=int(input(\"enter the denominator\"))\n",
    "        c=a/b\n",
    "        print(c)\n",
    "    except:\n",
    "        print(\"exception is caught in except block\")\n",
    "        print(\"some problem is occured\")\n",
    "    finally:\n",
    "        print(\"connection2 is terminated\")\n",
    "print(\"main() is called\")\n",
    "print(\"connection1 is established\")\n",
    "fun()\n",
    "print(\"connection1 is terminated\")"
   ]
  },
  {
   "cell_type": "code",
   "execution_count": null,
   "metadata": {},
   "outputs": [],
   "source": []
  }
 ],
 "metadata": {
  "kernelspec": {
   "display_name": "Python 3",
   "language": "python",
   "name": "python3"
  },
  "language_info": {
   "codemirror_mode": {
    "name": "ipython",
    "version": 3
   },
   "file_extension": ".py",
   "mimetype": "text/x-python",
   "name": "python",
   "nbconvert_exporter": "python",
   "pygments_lexer": "ipython3",
   "version": "3.8.3"
  }
 },
 "nbformat": 4,
 "nbformat_minor": 4
}
