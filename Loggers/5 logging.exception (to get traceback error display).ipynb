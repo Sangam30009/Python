{
 "cells": [
  {
   "cell_type": "code",
   "execution_count": 1,
   "metadata": {},
   "outputs": [
    {
     "name": "stdout",
     "output_type": "stream",
     "text": [
      "numerator5\n",
      "denominator0\n",
      "some problem is occured\n"
     ]
    }
   ],
   "source": [
    "import logging\n",
    "logging.basicConfig(filename=\"error.txt\",level=\"ERROR\",filemode='w')\n",
    "def fun():\n",
    "    try:\n",
    "        a=int(input(\"numerator\"))\n",
    "        b=int(input(\"denominator\"))\n",
    "        c=a/b\n",
    "        print(c)\n",
    "    except Exception as msg:\n",
    "        print(\"some problem is occured\")\n",
    "        logging.exception(\"reason for exception={}\".format(msg))\n",
    "fun()"
   ]
  },
  {
   "cell_type": "code",
   "execution_count": null,
   "metadata": {},
   "outputs": [],
   "source": []
  }
 ],
 "metadata": {
  "kernelspec": {
   "display_name": "Python 3",
   "language": "python",
   "name": "python3"
  },
  "language_info": {
   "codemirror_mode": {
    "name": "ipython",
    "version": 3
   },
   "file_extension": ".py",
   "mimetype": "text/x-python",
   "name": "python",
   "nbconvert_exporter": "python",
   "pygments_lexer": "ipython3",
   "version": "3.8.3"
  }
 },
 "nbformat": 4,
 "nbformat_minor": 4
}
