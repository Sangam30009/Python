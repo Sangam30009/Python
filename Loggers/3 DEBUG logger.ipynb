{
 "cells": [
  {
   "cell_type": "code",
   "execution_count": 4,
   "metadata": {},
   "outputs": [],
   "source": [
    "#Normal pgm"
   ]
  },
  {
   "cell_type": "code",
   "execution_count": 5,
   "metadata": {},
   "outputs": [
    {
     "name": "stdout",
     "output_type": "stream",
     "text": [
      "enter the numerator5\n",
      "enter the denominator4\n",
      "1.25\n"
     ]
    }
   ],
   "source": [
    "def fun():\n",
    "    try:\n",
    "        a=int(input(\"enter the numerator\"))\n",
    "        b=int(input(\"enter the denominator\"))\n",
    "        c=a/b\n",
    "        print(c)\n",
    "    except:\n",
    "        print(\"some problem has been occured\")\n",
    "fun()"
   ]
  },
  {
   "cell_type": "code",
   "execution_count": 6,
   "metadata": {},
   "outputs": [],
   "source": [
    "#by using DEBUG"
   ]
  },
  {
   "cell_type": "code",
   "execution_count": 8,
   "metadata": {},
   "outputs": [
    {
     "name": "stdout",
     "output_type": "stream",
     "text": [
      "enter the numerator5\n",
      "enter the denominator5\n",
      "1.0\n"
     ]
    }
   ],
   "source": [
    "import logging\n",
    "logging.basicConfig(filename=\"debug.txt\",level='DEBUG',filemode='w')\n",
    "def fun():\n",
    "    try:\n",
    "        a=int(input(\"enter the numerator\"))\n",
    "        logging.debug(\"a={}\".format(a))\n",
    "        b=int(input(\"enter the denominator\"))\n",
    "        logging.debug(\"b={}\".format(b))\n",
    "        c=a/b\n",
    "        logging.debug(\"result={}\".format(c))\n",
    "        print(c)\n",
    "    except:\n",
    "        print(\"some problem occured\")\n",
    "fun()"
   ]
  },
  {
   "cell_type": "code",
   "execution_count": 9,
   "metadata": {},
   "outputs": [
    {
     "name": "stdout",
     "output_type": "stream",
     "text": [
      "enter the numerator5\n",
      "enter the denominator0\n",
      "some problem occured\n"
     ]
    }
   ],
   "source": [
    "import logging\n",
    "logging.basicConfig(filename=\"debug.txt\",level='DEBUG',filemode='w')\n",
    "def fun():\n",
    "    try:\n",
    "        a=int(input(\"enter the numerator\"))\n",
    "        logging.debug(\"a={}\".format(a))\n",
    "        b=int(input(\"enter the denominator\"))\n",
    "        logging.debug(\"b={}\".format(b))\n",
    "        c=a/b\n",
    "        logging.debug(\"result={}\".format(c))\n",
    "        print(c)\n",
    "    except:\n",
    "        print(\"some problem occured\")\n",
    "fun()"
   ]
  },
  {
   "cell_type": "code",
   "execution_count": 10,
   "metadata": {},
   "outputs": [
    {
     "name": "stdout",
     "output_type": "stream",
     "text": [
      "enter the numerator5\n",
      "enter the denominatordd\n",
      "some problem occured\n"
     ]
    }
   ],
   "source": [
    "import logging\n",
    "logging.basicConfig(filename=\"debug.txt\",level='DEBUG',filemode='w')\n",
    "def fun():\n",
    "    try:\n",
    "        a=int(input(\"enter the numerator\"))\n",
    "        logging.debug(\"a={}\".format(a))\n",
    "        b=int(input(\"enter the denominator\"))\n",
    "        logging.debug(\"b={}\".format(b))\n",
    "        c=a/b\n",
    "        logging.debug(\"result={}\".format(c))\n",
    "        print(c)\n",
    "    except:\n",
    "        print(\"some problem occured\")\n",
    "fun()"
   ]
  },
  {
   "cell_type": "code",
   "execution_count": null,
   "metadata": {},
   "outputs": [],
   "source": []
  }
 ],
 "metadata": {
  "kernelspec": {
   "display_name": "Python 3",
   "language": "python",
   "name": "python3"
  },
  "language_info": {
   "codemirror_mode": {
    "name": "ipython",
    "version": 3
   },
   "file_extension": ".py",
   "mimetype": "text/x-python",
   "name": "python",
   "nbconvert_exporter": "python",
   "pygments_lexer": "ipython3",
   "version": "3.8.3"
  }
 },
 "nbformat": 4,
 "nbformat_minor": 4
}
