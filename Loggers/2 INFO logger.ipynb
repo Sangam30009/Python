{
 "cells": [
  {
   "cell_type": "code",
   "execution_count": 1,
   "metadata": {},
   "outputs": [],
   "source": [
    "import logging"
   ]
  },
  {
   "cell_type": "code",
   "execution_count": 7,
   "metadata": {},
   "outputs": [
    {
     "name": "stdout",
     "output_type": "stream",
     "text": [
      "enter the numerator5\n",
      "enter the denominator5\n",
      "1.0\n"
     ]
    }
   ],
   "source": [
    "logging.basicConfig(filename=\"sangam.txt\",level=\"INFO\",filemode='w')\n",
    "def fun():\n",
    "    logging.info(\"fun( ) is called\")\n",
    "    try:\n",
    "        logging.info(\"connection2 established\")\n",
    "        a=int(input(\"enter the numerator\"))\n",
    "        b=int(input(\"enter the denominator\"))\n",
    "        c=a/b\n",
    "        print(c)\n",
    "    except:\n",
    "        logging.info(\"exception has caught in exception block\")\n",
    "        print(\"some problem has been occured\")\n",
    "    finally:\n",
    "        logging.info(\"connection2 is terminated\")\n",
    "logging.info(\"main() is called\")\n",
    "logging.info(\"connection1 is established\")\n",
    "fun()\n",
    "logging.info(\"connection1 is terminated\")"
   ]
  },
  {
   "cell_type": "code",
   "execution_count": null,
   "metadata": {},
   "outputs": [],
   "source": []
  }
 ],
 "metadata": {
  "kernelspec": {
   "display_name": "Python 3",
   "language": "python",
   "name": "python3"
  },
  "language_info": {
   "codemirror_mode": {
    "name": "ipython",
    "version": 3
   },
   "file_extension": ".py",
   "mimetype": "text/x-python",
   "name": "python",
   "nbconvert_exporter": "python",
   "pygments_lexer": "ipython3",
   "version": "3.8.3"
  }
 },
 "nbformat": 4,
 "nbformat_minor": 4
}
