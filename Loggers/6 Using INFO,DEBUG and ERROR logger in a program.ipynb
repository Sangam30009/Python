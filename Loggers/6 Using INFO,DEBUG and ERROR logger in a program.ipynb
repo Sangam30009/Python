{
 "cells": [
  {
   "cell_type": "code",
   "execution_count": 3,
   "metadata": {},
   "outputs": [
    {
     "name": "stdout",
     "output_type": "stream",
     "text": [
      "numerator5\n",
      "denominator5\n",
      "1.0\n"
     ]
    }
   ],
   "source": [
    "import logging\n",
    "info_logger=logging.getLogger(\"info\")\n",
    "debug_logger=logging.getLogger(\"debug\")\n",
    "error_logger=logging.getLogger(\"error\")\n",
    "info_logger.setLevel(logging.INFO)\n",
    "debug_logger.setLevel(logging.DEBUG)\n",
    "error_logger.setLevel(logging.ERROR)\n",
    "info_file=logging.FileHandler(\"infolog.txt\")\n",
    "error_file=logging.FileHandler(\"error_log.txt\")\n",
    "debug_file=logging.FileHandler(\"debug_log.txt\")\n",
    "def fun():\n",
    "    info_logger.info(\"function is called\")\n",
    "    try:\n",
    "        a=int(input(\"numerator\"))\n",
    "        debug_logger.debug(\"a={}\".format(a))\n",
    "        b=int(input(\"denominator\"))\n",
    "        debug_logger.debug(\"b={}\".format(b))\n",
    "        c=a/b\n",
    "        debug_logger.debug(\"c={}\".format(c))\n",
    "        print(c)\n",
    "    except Exception as msg:\n",
    "        info_logger.ingo(\"exception has caught in except block\")\n",
    "        print(\"some problem is occured\")\n",
    "        error_logger.error(\"reason for exception={}\".format(msg))\n",
    "info_logger.info(\"main is called\")\n",
    "fun()"
   ]
  },
  {
   "cell_type": "code",
   "execution_count": 6,
   "metadata": {},
   "outputs": [
    {
     "name": "stdout",
     "output_type": "stream",
     "text": [
      "numerator5\n",
      "denominator0\n"
     ]
    },
    {
     "name": "stderr",
     "output_type": "stream",
     "text": [
      "reason for exception=division by zero\n"
     ]
    },
    {
     "name": "stdout",
     "output_type": "stream",
     "text": [
      "some problem is occured\n"
     ]
    }
   ],
   "source": [
    "import logging\n",
    "info_logger=logging.getLogger(\"info\")\n",
    "debug_logger=logging.getLogger(\"debug\")\n",
    "error_logger=logging.getLogger(\"error\")\n",
    "info_logger.setLevel(logging.INFO)\n",
    "debug_logger.setLevel(logging.DEBUG)\n",
    "error_logger.setLevel(logging.ERROR)\n",
    "info_file=logging.FileHandler(\"infolog.txt\")\n",
    "error_file=logging.FileHandler(\"error_log.txt\")\n",
    "debug_file=logging.FileHandler(\"debug_log.txt\")\n",
    "def fun():\n",
    "    info_logger.info(\"function is called\")\n",
    "    try:\n",
    "        a=int(input(\"numerator\"))\n",
    "        debug_logger.debug(\"a={}\".format(a))\n",
    "        b=int(input(\"denominator\"))\n",
    "        debug_logger.debug(\"b={}\".format(b))\n",
    "        c=a/b\n",
    "        debug_logger.debug(\"c={}\".format(c))\n",
    "        print(c)\n",
    "    except Exception as msg:\n",
    "        info_logger.info(\"exception has caught in except block\")\n",
    "        print(\"some problem is occured\")\n",
    "        error_logger.error(\"reason for exception={}\".format(msg))\n",
    "info_logger.info(\"main is called\")\n",
    "fun()"
   ]
  },
  {
   "cell_type": "code",
   "execution_count": 8,
   "metadata": {},
   "outputs": [
    {
     "name": "stdout",
     "output_type": "stream",
     "text": [
      "numeratordd\n"
     ]
    },
    {
     "name": "stderr",
     "output_type": "stream",
     "text": [
      "reason for exception=invalid literal for int() with base 10: 'dd'\n"
     ]
    },
    {
     "name": "stdout",
     "output_type": "stream",
     "text": [
      "some problem is occured\n"
     ]
    }
   ],
   "source": [
    "import logging\n",
    "info_logger=logging.getLogger(\"info\")\n",
    "debug_logger=logging.getLogger(\"debug\")\n",
    "error_logger=logging.getLogger(\"error\")\n",
    "info_logger.setLevel(logging.INFO)\n",
    "debug_logger.setLevel(logging.DEBUG)\n",
    "error_logger.setLevel(logging.ERROR)\n",
    "info_file=logging.FileHandler(\"infolog.txt\")\n",
    "error_file=logging.FileHandler(\"error_log.txt\")\n",
    "debug_file=logging.FileHandler(\"debug_log.txt\")\n",
    "def fun():\n",
    "    info_logger.info(\"function is called\")\n",
    "    try:\n",
    "        a=int(input(\"numerator\"))\n",
    "        debug_logger.debug(\"a={}\".format(a))\n",
    "        b=int(input(\"denominator\"))\n",
    "        debug_logger.debug(\"b={}\".format(b))\n",
    "        c=a/b\n",
    "        debug_logger.debug(\"c={}\".format(c))\n",
    "        print(c)\n",
    "    except Exception as msg:\n",
    "        info_logger.info(\"exception has caught in except block\")\n",
    "        print(\"some problem is occured\")\n",
    "        error_logger.error(\"reason for exception={}\".format(msg))\n",
    "info_logger.info(\"main is called\")\n",
    "fun()"
   ]
  },
  {
   "cell_type": "code",
   "execution_count": null,
   "metadata": {},
   "outputs": [],
   "source": []
  }
 ],
 "metadata": {
  "kernelspec": {
   "display_name": "Python 3",
   "language": "python",
   "name": "python3"
  },
  "language_info": {
   "codemirror_mode": {
    "name": "ipython",
    "version": 3
   },
   "file_extension": ".py",
   "mimetype": "text/x-python",
   "name": "python",
   "nbconvert_exporter": "python",
   "pygments_lexer": "ipython3",
   "version": "3.8.3"
  }
 },
 "nbformat": 4,
 "nbformat_minor": 4
}
