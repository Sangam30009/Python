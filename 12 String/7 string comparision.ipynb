{
 "cells": [
  {
   "cell_type": "code",
   "execution_count": 11,
   "metadata": {},
   "outputs": [],
   "source": [
    "s1=\"abc\""
   ]
  },
  {
   "cell_type": "code",
   "execution_count": 12,
   "metadata": {},
   "outputs": [],
   "source": [
    "s2=\"tech\""
   ]
  },
  {
   "cell_type": "code",
   "execution_count": 13,
   "metadata": {},
   "outputs": [],
   "source": [
    "#COMPARISION by using \"==\" ,id(),is"
   ]
  },
  {
   "cell_type": "code",
   "execution_count": 14,
   "metadata": {},
   "outputs": [
    {
     "name": "stdout",
     "output_type": "stream",
     "text": [
      "string valuea are unequal\n"
     ]
    }
   ],
   "source": [
    "if s1==s2:\n",
    "    print(\"string values are equal\")\n",
    "else:\n",
    "    print(\"string valuea are unequal\")"
   ]
  },
  {
   "cell_type": "code",
   "execution_count": 15,
   "metadata": {},
   "outputs": [
    {
     "name": "stdout",
     "output_type": "stream",
     "text": [
      "references are unequal\n",
      "references are unequal\n"
     ]
    }
   ],
   "source": [
    "if(id(s1)==id(s2)):\n",
    "    print(\"references are equal\")\n",
    "else:\n",
    "    print(\"references are unequal\")\n",
    "\n",
    "if(s1 is s2):\n",
    "    print(\"references are equal\")\n",
    "else:\n",
    "    print(\"references are unequal\")"
   ]
  },
  {
   "cell_type": "code",
   "execution_count": 16,
   "metadata": {},
   "outputs": [],
   "source": [
    "s1=\"abc\"\n",
    "s2=\"abc\""
   ]
  },
  {
   "cell_type": "code",
   "execution_count": 17,
   "metadata": {},
   "outputs": [
    {
     "name": "stdout",
     "output_type": "stream",
     "text": [
      "string values are equal\n",
      "references are equal\n",
      "references are equal\n"
     ]
    }
   ],
   "source": [
    "if s1==s2:\n",
    "    print(\"string values are equal\")\n",
    "else:\n",
    "    print(\"string valuea are unequal\")\n",
    "if(id(s1)==id(s2)):\n",
    "    print(\"references are equal\")\n",
    "else:\n",
    "    print(\"references are unequal\")\n",
    "if(s1 is s2):\n",
    "    print(\"references are equal\")\n",
    "else:\n",
    "    print(\"references are unequal\")"
   ]
  },
  {
   "cell_type": "code",
   "execution_count": null,
   "metadata": {},
   "outputs": [],
   "source": []
  }
 ],
 "metadata": {
  "kernelspec": {
   "display_name": "Python 3",
   "language": "python",
   "name": "python3"
  },
  "language_info": {
   "codemirror_mode": {
    "name": "ipython",
    "version": 3
   },
   "file_extension": ".py",
   "mimetype": "text/x-python",
   "name": "python",
   "nbconvert_exporter": "python",
   "pygments_lexer": "ipython3",
   "version": "3.8.3"
  }
 },
 "nbformat": 4,
 "nbformat_minor": 4
}
