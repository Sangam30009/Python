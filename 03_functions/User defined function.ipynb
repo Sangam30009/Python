{
 "cells": [
  {
   "cell_type": "code",
   "execution_count": 5,
   "metadata": {},
   "outputs": [
    {
     "name": "stdout",
     "output_type": "stream",
     "text": [
      "this function takes no inputs and gives no output\n",
      "30\n"
     ]
    }
   ],
   "source": [
    "def sum():\n",
    "    '''this function takes no inputs and gives no output'''\n",
    "    a=10\n",
    "    b=20\n",
    "    c=a+b\n",
    "    print(c)\n",
    "print(sum.__doc__)\n",
    "sum()"
   ]
  },
  {
   "cell_type": "code",
   "execution_count": 17,
   "metadata": {},
   "outputs": [
    {
     "name": "stdout",
     "output_type": "stream",
     "text": [
      "this function takes no inputs but gives output\n",
      "30\n"
     ]
    }
   ],
   "source": [
    "def sum():\n",
    "    '''this function takes no inputs but gives output'''\n",
    "    a=10\n",
    "    b=20\n",
    "    c=a+b\n",
    "    return c\n",
    "print(sum.__doc__)\n",
    "print(sum())"
   ]
  },
  {
   "cell_type": "code",
   "execution_count": 11,
   "metadata": {},
   "outputs": [
    {
     "name": "stdout",
     "output_type": "stream",
     "text": [
      "this function takes inputs and gives no output\n",
      "True\n",
      "30\n"
     ]
    }
   ],
   "source": [
    "\n",
    "def sum(x):\n",
    "    '''this function takes inputs and gives no output'''\n",
    "    b=20\n",
    "    c=a+b\n",
    "    print(a==x)\n",
    "    print(c)\n",
    "print(sum.__doc__)\n",
    "a=10\n",
    "sum(a)"
   ]
  },
  {
   "cell_type": "code",
   "execution_count": 18,
   "metadata": {},
   "outputs": [
    {
     "name": "stdout",
     "output_type": "stream",
     "text": [
      "this function takes inputs and gives output\n",
      "30\n"
     ]
    }
   ],
   "source": [
    "\n",
    "def sum(a):\n",
    "    '''this function takes inputs and gives output'''\n",
    "    b=20\n",
    "    c=a+b\n",
    "    return c\n",
    "print(sum.__doc__)\n",
    "a=10\n",
    "print(sum(a))"
   ]
  },
  {
   "cell_type": "code",
   "execution_count": null,
   "metadata": {},
   "outputs": [],
   "source": []
  }
 ],
 "metadata": {
  "kernelspec": {
   "display_name": "Python 3",
   "language": "python",
   "name": "python3"
  },
  "language_info": {
   "codemirror_mode": {
    "name": "ipython",
    "version": 3
   },
   "file_extension": ".py",
   "mimetype": "text/x-python",
   "name": "python",
   "nbconvert_exporter": "python",
   "pygments_lexer": "ipython3",
   "version": "3.8.3"
  }
 },
 "nbformat": 4,
 "nbformat_minor": 4
}
