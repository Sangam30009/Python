{
 "cells": [
  {
   "cell_type": "code",
   "execution_count": 1,
   "metadata": {},
   "outputs": [
    {
     "name": "stdout",
     "output_type": "stream",
     "text": [
      "32\n",
      "25\n"
     ]
    }
   ],
   "source": [
    "#POSITIONAL ARGUMENT : in python the order of the  position of arguments matters\n",
    "def power_of(num,power):\n",
    "    return num**power\n",
    "print(power_of(2,5))\n",
    "print(power_of(5,2))"
   ]
  },
  {
   "cell_type": "code",
   "execution_count": 2,
   "metadata": {},
   "outputs": [
    {
     "name": "stdout",
     "output_type": "stream",
     "text": [
      "32\n",
      "25\n"
     ]
    }
   ],
   "source": [
    "#DEFAULT ARGUMENT : In python parameters can be assigned with default values and works when there is no argument to that parameter\n",
    "def power_of(num,power=2):\n",
    "    return num**power\n",
    "print(power_of(2,5))#optional\n",
    "print(power_of(5))"
   ]
  },
  {
   "cell_type": "code",
   "execution_count": 3,
   "metadata": {},
   "outputs": [
    {
     "ename": "SyntaxError",
     "evalue": "non-default argument follows default argument (<ipython-input-3-10b1f892abe3>, line 1)",
     "output_type": "error",
     "traceback": [
      "\u001b[1;36m  File \u001b[1;32m\"<ipython-input-3-10b1f892abe3>\"\u001b[1;36m, line \u001b[1;32m1\u001b[0m\n\u001b[1;33m    def power_of(power=2,num):\u001b[0m\n\u001b[1;37m                 ^\u001b[0m\n\u001b[1;31mSyntaxError\u001b[0m\u001b[1;31m:\u001b[0m non-default argument follows default argument\n"
     ]
    }
   ],
   "source": [
    "#SyntaxError: non-default argument follows default argument\n",
    "def power_of(power=2,num):    \n",
    "    return num**power\n",
    "print(power_of(2,5))#optional\n",
    "print(power_of(5))"
   ]
  },
  {
   "cell_type": "code",
   "execution_count": 5,
   "metadata": {},
   "outputs": [
    {
     "name": "stdout",
     "output_type": "stream",
     "text": [
      "32\n",
      "32\n"
     ]
    }
   ],
   "source": [
    "#KEYWORD ARGUMENT\n",
    "def power_of(num,power):\n",
    "    return num**power\n",
    "print(power_of(num=2,power=5))\n",
    "print(power_of(power=5,num=2))"
   ]
  },
  {
   "cell_type": "code",
   "execution_count": 6,
   "metadata": {},
   "outputs": [
    {
     "ename": "TypeError",
     "evalue": "pizza_toppings() takes 1 positional argument but 4 were given",
     "output_type": "error",
     "traceback": [
      "\u001b[1;31m---------------------------------------------------------------------------\u001b[0m",
      "\u001b[1;31mTypeError\u001b[0m                                 Traceback (most recent call last)",
      "\u001b[1;32m<ipython-input-6-f134c0fc1957>\u001b[0m in \u001b[0;36m<module>\u001b[1;34m\u001b[0m\n\u001b[0;32m      2\u001b[0m \u001b[1;32mdef\u001b[0m \u001b[0mpizza_toppings\u001b[0m\u001b[1;33m(\u001b[0m\u001b[0mtoppings\u001b[0m\u001b[1;33m)\u001b[0m\u001b[1;33m:\u001b[0m\u001b[1;33m\u001b[0m\u001b[1;33m\u001b[0m\u001b[0m\n\u001b[0;32m      3\u001b[0m     \u001b[0mprint\u001b[0m\u001b[1;33m(\u001b[0m\u001b[0mtoppings\u001b[0m\u001b[1;33m)\u001b[0m\u001b[1;33m\u001b[0m\u001b[1;33m\u001b[0m\u001b[0m\n\u001b[1;32m----> 4\u001b[1;33m \u001b[0mpizza_toppings\u001b[0m\u001b[1;33m(\u001b[0m\u001b[1;34m\"extra_cheese\"\u001b[0m\u001b[1;33m,\u001b[0m\u001b[1;34m\"corn\"\u001b[0m\u001b[1;33m,\u001b[0m\u001b[1;34m\"onion\"\u001b[0m\u001b[1;33m,\u001b[0m\u001b[1;34m\"peper\"\u001b[0m\u001b[1;33m)\u001b[0m\u001b[1;33m\u001b[0m\u001b[1;33m\u001b[0m\u001b[0m\n\u001b[0m",
      "\u001b[1;31mTypeError\u001b[0m: pizza_toppings() takes 1 positional argument but 4 were given"
     ]
    }
   ],
   "source": [
    "#VARIABLE LENGTH KEYWORD ARGUMENT (or) ARBITARY ARGUMENT\n",
    "def pizza_toppings(toppings):\n",
    "    print(toppings)\n",
    "pizza_toppings(\"extra_cheese\",\"corn\",\"onion\",\"peper\")\n"
   ]
  },
  {
   "cell_type": "code",
   "execution_count": 9,
   "metadata": {},
   "outputs": [
    {
     "name": "stdout",
     "output_type": "stream",
     "text": [
      "('extra_cheese', 'corn', 'onion', 'peper')\n"
     ]
    }
   ],
   "source": [
    "#VARIABLE LENGTH KEYWORD ARGUMENT (or) ARBITARY ARGUMENT[*]\n",
    "def pizza_toppings(*toppings):\n",
    "    print(toppings)\n",
    "pizza_toppings(\"extra_cheese\",\"corn\",\"onion\",\"peper\")\n"
   ]
  },
  {
   "cell_type": "code",
   "execution_count": 12,
   "metadata": {},
   "outputs": [
    {
     "name": "stdout",
     "output_type": "stream",
     "text": [
      "{'ONE': 'extra_cheese', 'TWO': 'corn', 'THREE': 'onion', 'FOUR': 'peper'}\n"
     ]
    }
   ],
   "source": [
    "#VARIABLE LENGTH KEYWORD ARGUMENT (or) ARBITARY KEYWORD ARGUMENT [**]\n",
    "def pizza_toppings(**toppings):\n",
    "    print(toppings)\n",
    "pizza_toppings(ONE=\"extra_cheese\",TWO=\"corn\",THREE=\"onion\",FOUR=\"peper\")\n"
   ]
  },
  {
   "cell_type": "code",
   "execution_count": null,
   "metadata": {},
   "outputs": [],
   "source": []
  }
 ],
 "metadata": {
  "kernelspec": {
   "display_name": "Python 3",
   "language": "python",
   "name": "python3"
  },
  "language_info": {
   "codemirror_mode": {
    "name": "ipython",
    "version": 3
   },
   "file_extension": ".py",
   "mimetype": "text/x-python",
   "name": "python",
   "nbconvert_exporter": "python",
   "pygments_lexer": "ipython3",
   "version": "3.8.3"
  }
 },
 "nbformat": 4,
 "nbformat_minor": 4
}
