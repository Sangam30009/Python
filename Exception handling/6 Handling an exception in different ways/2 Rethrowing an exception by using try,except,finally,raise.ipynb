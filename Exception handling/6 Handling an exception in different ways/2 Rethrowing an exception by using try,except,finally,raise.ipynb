{
 "cells": [
  {
   "cell_type": "code",
   "execution_count": 1,
   "metadata": {},
   "outputs": [
    {
     "name": "stdout",
     "output_type": "stream",
     "text": [
      "connection 1 is established\n",
      "connection 2 is established\n",
      "enter the numerator5\n",
      "enter the demominator5\n",
      "1.0\n",
      "connection 2 terminated\n",
      "connection 1 is terminated\n"
     ]
    }
   ],
   "source": [
    "def alpha():\n",
    "    print(\"connection 2 is established\")\n",
    "    try:\n",
    "        a=int(input(\"enter the numerator\"))\n",
    "        b=int(input(\"enter the demominator\"))\n",
    "        c=a/b\n",
    "        print(c)\n",
    "    except Exception as e:\n",
    "        print(\"some problem occured\")\n",
    "        raise e\n",
    "    finally:\n",
    "        print(\"connection 2 terminated\")\n",
    "print(\"connection 1 is established\")\n",
    "try:\n",
    "    alpha()\n",
    "except:\n",
    "    print(\"exception is handled within main()\")\n",
    "print(\"connection 1 is terminated\")"
   ]
  },
  {
   "cell_type": "code",
   "execution_count": 3,
   "metadata": {},
   "outputs": [
    {
     "name": "stdout",
     "output_type": "stream",
     "text": [
      "connection 1 is established\n",
      "connection 2 is established\n",
      "enter the numerator5\n",
      "enter the demominator0\n",
      "some problem occured\n",
      "connection 2 terminated\n",
      "exception is handled within main()\n",
      "connection 1 is terminated\n"
     ]
    }
   ],
   "source": [
    "def alpha():\n",
    "    print(\"connection 2 is established\")\n",
    "    try:\n",
    "        a=int(input(\"enter the numerator\"))\n",
    "        b=int(input(\"enter the demominator\"))\n",
    "        c=a/b\n",
    "        print(c)\n",
    "    except Exception as e:\n",
    "        print(\"some problem occured\")\n",
    "        raise e\n",
    "    finally:\n",
    "        print(\"connection 2 terminated\")\n",
    "print(\"connection 1 is established\")\n",
    "try:\n",
    "    alpha()\n",
    "except:\n",
    "    print(\"exception is handled within main()\")\n",
    "print(\"connection 1 is terminated\")"
   ]
  },
  {
   "cell_type": "code",
   "execution_count": null,
   "metadata": {},
   "outputs": [],
   "source": []
  }
 ],
 "metadata": {
  "kernelspec": {
   "display_name": "Python 3",
   "language": "python",
   "name": "python3"
  },
  "language_info": {
   "codemirror_mode": {
    "name": "ipython",
    "version": 3
   },
   "file_extension": ".py",
   "mimetype": "text/x-python",
   "name": "python",
   "nbconvert_exporter": "python",
   "pygments_lexer": "ipython3",
   "version": "3.8.3"
  }
 },
 "nbformat": 4,
 "nbformat_minor": 4
}
