{
 "cells": [
  {
   "cell_type": "code",
   "execution_count": 1,
   "metadata": {},
   "outputs": [],
   "source": [
    "import re"
   ]
  },
  {
   "cell_type": "code",
   "execution_count": 6,
   "metadata": {},
   "outputs": [
    {
     "name": "stdout",
     "output_type": "stream",
     "text": [
      "enter the user name which contains (A-Z),(a-z),('-')\n",
      "aaaa\n",
      "ente password which contains at least (one special char,digit,uppercse)888\n",
      "you have entered wrong user name\n",
      "enter the user name which contains (A-Z),(a-z),('-')\n",
      "Sangam\n",
      "ente password which contains at least (one special char,digit,uppercse)San@12\n",
      "your account has been created\n"
     ]
    }
   ],
   "source": [
    "class InvalidUsernameError(Exception):\n",
    "    pass\n",
    "class InvalidPasswordError(Exception):\n",
    "    pass\n",
    "un=\" \"\n",
    "pw=\" \"\n",
    "def accept_input():\n",
    "    global un\n",
    "    global pw\n",
    "    un=input(\"enter the user name which contains (A-Z),(a-z),('-')\\n\")\n",
    "    pw=input(\"ente password which contains at least (one special char,digit,uppercse)\")\n",
    "def verify():\n",
    "    if bool(re.search(r\"[^a-zA-Z]\",un))==False and len(un)<15:\n",
    "        if bool(re.search(r\"[A-Z]+\",pw)) and bool(re.search(r\"[\\d]+\",pw)) and bool(re.search(r\"[\\w]+\",pw)) and len(pw)<=8:\n",
    "            print(\"your account has been created\")\n",
    "        else:\n",
    "            print(\"you have entered wrong user name\")\n",
    "            raise InvalidUsernameError(\"PLEASE FOLLOW THE INSTRUCTION\")\n",
    "try:\n",
    "    accept_input()\n",
    "    verify()\n",
    "except:\n",
    "    try:\n",
    "        accept_input()\n",
    "        verify()\n",
    "    except:\n",
    "        try:\n",
    "            accept_input()\n",
    "            verify()\n",
    "        except:\n",
    "            print(\"BLOCKED!!! You have crossed maximum 3 times\")"
   ]
  },
  {
   "cell_type": "code",
   "execution_count": null,
   "metadata": {},
   "outputs": [],
   "source": []
  }
 ],
 "metadata": {
  "kernelspec": {
   "display_name": "Python 3",
   "language": "python",
   "name": "python3"
  },
  "language_info": {
   "codemirror_mode": {
    "name": "ipython",
    "version": 3
   },
   "file_extension": ".py",
   "mimetype": "text/x-python",
   "name": "python",
   "nbconvert_exporter": "python",
   "pygments_lexer": "ipython3",
   "version": "3.8.3"
  }
 },
 "nbformat": 4,
 "nbformat_minor": 4
}
