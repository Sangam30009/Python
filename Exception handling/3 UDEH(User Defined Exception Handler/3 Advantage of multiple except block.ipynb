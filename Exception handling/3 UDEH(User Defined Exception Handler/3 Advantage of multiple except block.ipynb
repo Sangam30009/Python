{
 "cells": [
  {
   "cell_type": "code",
   "execution_count": 1,
   "metadata": {},
   "outputs": [
    {
     "name": "stdout",
     "output_type": "stream",
     "text": [
      "connection established\n",
      "enter the numerator5\n",
      "enter the denominarator0\n",
      "please provide non zero denominator\n",
      "conn terminated\n"
     ]
    }
   ],
   "source": [
    "print(\"connection established\")\n",
    "try:\n",
    "    a=int(input(\"enter the numerator\"))\n",
    "    b=int(input(\"enter the denominarator\"))\n",
    "    c=a/b\n",
    "    print(c)\n",
    "except ZeroDivisionError:\n",
    "    print(\"please provide non zero denominator\")\n",
    "except ValueError:\n",
    "    print(\"please provide integer value\")\n",
    "except NameError:\n",
    "    print(\"please contact your devloper\")\n",
    "except:\n",
    "    print(\"some problem occured\")\n",
    "print(\"conn terminated\")"
   ]
  },
  {
   "cell_type": "code",
   "execution_count": 2,
   "metadata": {},
   "outputs": [
    {
     "name": "stdout",
     "output_type": "stream",
     "text": [
      "connection established\n",
      "enter the numerator5\n",
      "enter the denominaratorabc\n",
      "please provide integer value\n",
      "conn terminated\n"
     ]
    }
   ],
   "source": [
    "print(\"connection established\")\n",
    "try:\n",
    "    a=int(input(\"enter the numerator\"))\n",
    "    b=int(input(\"enter the denominarator\"))\n",
    "    c=a/b\n",
    "    print(c)\n",
    "except ZeroDivisionError:\n",
    "    print(\"please provide non zero denominator\")\n",
    "except ValueError:\n",
    "    print(\"please provide integer value\")\n",
    "except NameError:\n",
    "    print(\"please contact your devloper\")\n",
    "except:\n",
    "    print(\"some problem occured\")\n",
    "print(\"conn terminated\")"
   ]
  },
  {
   "cell_type": "code",
   "execution_count": 3,
   "metadata": {},
   "outputs": [
    {
     "name": "stdout",
     "output_type": "stream",
     "text": [
      "connection established\n",
      "enter the numerator5\n",
      "enter the denominarator5\n",
      "please contact your devloper\n",
      "conn terminated\n"
     ]
    }
   ],
   "source": [
    "print(\"connection established\")\n",
    "try:\n",
    "    a=int(input(\"enter the numerator\"))\n",
    "    b=int(input(\"enter the denominarator\"))\n",
    "    c=a/e\n",
    "    print(c)\n",
    "except ZeroDivisionError:\n",
    "    print(\"please provide non zero denominator\")\n",
    "except ValueError:\n",
    "    print(\"please provide integer value\")\n",
    "except NameError:\n",
    "    print(\"please contact your devloper\")\n",
    "except:\n",
    "    print(\"some problem occured\")\n",
    "print(\"conn terminated\")"
   ]
  },
  {
   "cell_type": "code",
   "execution_count": null,
   "metadata": {},
   "outputs": [],
   "source": []
  }
 ],
 "metadata": {
  "kernelspec": {
   "display_name": "Python 3",
   "language": "python",
   "name": "python3"
  },
  "language_info": {
   "codemirror_mode": {
    "name": "ipython",
    "version": 3
   },
   "file_extension": ".py",
   "mimetype": "text/x-python",
   "name": "python",
   "nbconvert_exporter": "python",
   "pygments_lexer": "ipython3",
   "version": "3.8.3"
  }
 },
 "nbformat": 4,
 "nbformat_minor": 4
}
